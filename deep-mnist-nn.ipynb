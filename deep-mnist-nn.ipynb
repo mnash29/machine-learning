{
 "cells": [
  {
   "cell_type": "markdown",
   "metadata": {},
   "source": [
    "# Deep MNIST Neural Network"
   ]
  },
  {
   "cell_type": "code",
   "execution_count": null,
   "metadata": {},
   "outputs": [],
   "source": [
    "import tensorflow as tf\n",
    "from tensorflow.examples.tutorials.mnist import input_data\n",
    "import time"
   ]
  },
  {
   "cell_type": "markdown",
   "metadata": {},
   "source": [
    "1. Create input object to read from MNIST datasets"
   ]
  },
  {
   "cell_type": "code",
   "execution_count": null,
   "metadata": {},
   "outputs": [],
   "source": [
    "# Log path\n",
    "log_path = \"logs/\"\n",
    "\n",
    "# Add summaries statistics for use in Tensorboard visualization\n",
    "def variable_summaries(var):\n",
    "    with tf.name_scope('summaries'):\n",
    "        mean = tf.reduce_mean(var)\n",
    "        tf.summary.scalar('mean', mean)\n",
    "        with tf.name_scope('stddev'):\n",
    "            stddev = tf.sqrt(tf.reduce_mean(tf.square(var-mean)))\n",
    "        tf.summary.scalar('stddev', stddev)\n",
    "        tf.summary.scalar('max', tf.reduce_max(var))\n",
    "        tf.summary.scalar('min', tf.reduce_min(var))\n",
    "        tf.summary.histogram('histogram', var)\n",
    "\n",
    "# Data set\n",
    "mnist = input_data.read_data_sets(\"data/deep_MNIST_data/\", one_hot=True)"
   ]
  },
  {
   "cell_type": "markdown",
   "metadata": {},
   "source": [
    "2. Use Interactive Session\n",
    "> The only difference with a regular `Session` is that an `InteractiveSession` installs itself as the default session on construction. The methods `tf.Tensor.eval` and `tf.Operation.run` will use that session to run ops."
   ]
  },
  {
   "cell_type": "code",
   "execution_count": null,
   "metadata": {},
   "outputs": [],
   "source": [
    "sess = tf.InteractiveSession()"
   ]
  },
  {
   "cell_type": "markdown",
   "metadata": {},
   "source": [
    "3. Define placeholders for MNIST input data"
   ]
  },
  {
   "cell_type": "code",
   "execution_count": null,
   "metadata": {},
   "outputs": [],
   "source": [
    "with tf.name_scope('MNIST_Input'):\n",
    "    x = tf.placeholder(tf.float32, shape=[None, 784], name='x')\n",
    "    y_ = tf.placeholder(tf.float32, shape=[None, 10], name='y_')"
   ]
  },
  {
   "cell_type": "markdown",
   "metadata": {},
   "source": [
    "4. Change the MNIST input data froma list of values to a 28x28x1 grayscale image that the Convolutional network can use"
   ]
  },
  {
   "cell_type": "code",
   "execution_count": null,
   "metadata": {},
   "outputs": [],
   "source": [
    "with tf.name_scope('Input_Reshape'):\n",
    "    x_image = tf.reshape(x, [-1,28,28,1], name=\"x_image\")\n",
    "    # View sample images\n",
    "    tf.summary.image('input_img', x_image, 5)"
   ]
  },
  {
   "cell_type": "markdown",
   "metadata": {},
   "source": [
    "4. Define helper functions to create weights, bias, convolution, and pooling layers\n",
    "> Using RELU as the activation function. These must be initialized to a small positive number and with some noise so you dont end up going to zero when comparing diffs"
   ]
  },
  {
   "cell_type": "code",
   "execution_count": null,
   "metadata": {},
   "outputs": [],
   "source": [
    "def weight_variable(shape, name=None):\n",
    "    initial = tf.truncated_normal(shape, stddev=0.1)\n",
    "    return tf.Variable(initial, name=name)\n",
    "\n",
    "def bias_variable(shape, name=None):\n",
    "    initial = tf.constant(0.1, shape=shape)\n",
    "    return tf.Variable(initial, name=name)\n",
    "\n",
    "# Convolution and Pooling to control overfitting\n",
    "def conv2d(x, W, name=None):\n",
    "    return tf.nn.conv2d(x, W, strides=[1,1,1,1], padding=\"SAME\", name=name)\n",
    "\n",
    "def max_pool_2x2(x, name=None):\n",
    "    return tf.nn.max_pool(x, ksize=[1,2,2,1], strides=[1,2,2,1], padding=\"SAME\", name=name)"
   ]
  },
  {
   "cell_type": "markdown",
   "metadata": {},
   "source": [
    "5. Define the model\n",
    "> `Adam` is an optimization algorithm that can used instead of the classical stochastic gradient descent procedure to update network weights iterative based in training data. `Stochastic gradient descent` maintains a single learning rate (termed alpha) for all weight updates and the learning rate does not change during training. Adam maintains a learning rate for each network weight (parameter) and separately adapted as learning unfolds."
   ]
  },
  {
   "cell_type": "code",
   "execution_count": null,
   "metadata": {},
   "outputs": [],
   "source": [
    "# Conv2d layer 1\n",
    "with tf.name_scope('Conv1'):\n",
    "    with tf.name_scope('weight'):\n",
    "        W_conv1 = weight_variable([5,5,1,32], name='weight')\n",
    "        variable_summaries(W_conv1)\n",
    "    with tf.name_scope('biases'):\n",
    "        b_conv1 = bias_variable([32], name='bias')\n",
    "        variable_summaries(b_conv1)\n",
    "    # Do convolution on images, add bias and apply RELU activation\n",
    "    conv1_wx_b = conv2d(x_image, W_conv1, name='conv2d') + b_conv1\n",
    "    tf.summary.histogram('conv1_wx_b', conv1_wx_b)\n",
    "    h_conv1 = tf.nn.relu(conv1_wx_b, name='relu')\n",
    "    tf.summary.histogram('h_conv1', h_conv1)\n",
    "    # Max pooling layer 1\n",
    "    h_pool1 = max_pool_2x2(h_conv1, name='pool')\n",
    "\n",
    "# Conv2d layer 2\n",
    "with tf.name_scope('Conv2'):\n",
    "    with tf.name_scope('weight'):\n",
    "        W_conv2 = weight_variable([5,5,32,64], name='weight')\n",
    "        variable_summaries(W_conv2)\n",
    "    with tf.name_scope('biases'):\n",
    "        b_conv2 = bias_variable([64], name='bias')\n",
    "        variable_summaries(b_conv2)\n",
    "    # Do convolution on the first layer and pool results\n",
    "    conv2_wx_b = conv2d(h_pool1, W_conv2, name='conv2d') + b_conv2\n",
    "    tf.summary.histogram('conv2_wx_b', conv2_wx_b)\n",
    "    h_conv2 = tf.nn.relu(conv2_wx_b, name='relu')\n",
    "    tf.summary.histogram('h_conv2', h_conv2)\n",
    "    # Max pooling layer 2\n",
    "    h_pool2 = max_pool_2x2(h_conv2, name='pool')\n",
    "\n",
    "# Fully connected layer\n",
    "with tf.name_scope('FC'):\n",
    "    W_fc1 = weight_variable([7*7*64, 1024], name='weight')\n",
    "    b_fc1 = bias_variable([1024], name='bias')\n",
    "\n",
    "    # Connect output of pooling layer 2 as input to fully connected layer\n",
    "    h_pool2_flat = tf.reshape(h_pool2, [-1, 7*7*64])\n",
    "    h_fc1 = tf.nn.relu(tf.matmul(h_pool2_flat, W_fc1) + b_fc1, name='relu')\n",
    "\n",
    "# Dropout some neurons to reduce overfitting\n",
    "keep_prob = tf.placeholder(tf.float32, name='keep_prob')\n",
    "h_fc1_drop = tf.nn.dropout(h_fc1, rate=(1-keep_prob))\n",
    "\n",
    "# Readout layer\n",
    "with tf.name_scope('Readout'):\n",
    "    W_fc2 = weight_variable([1024, 10], name='weight')\n",
    "    b_fc2 = bias_variable([10], name='bias')\n",
    "\n",
    "# Define model\n",
    "y_conv = tf.matmul(h_fc1_drop, W_fc2) + b_fc2\n",
    "\n",
    "# Loss measurement\n",
    "with tf.name_scope('cross_entropy'):\n",
    "    cross_entropy = tf.reduce_mean(tf.nn.softmax_cross_entropy_with_logits_v2(logits=y_conv, labels=y_))\n",
    "\n",
    "# Loss optimization\n",
    "with tf.name_scope('loss_optimizer'):\n",
    "    train_step = tf.train.AdamOptimizer(1e-4).minimize(cross_entropy)\n",
    "\n",
    "# Define accuracy\n",
    "with tf.name_scope('accuracy'):\n",
    "    correct_prediction = tf.equal(tf.argmax(y_conv,1), tf.argmax(y_,1))\n",
    "    accuracy = tf.reduce_mean(tf.cast(correct_prediction, tf.float32))"
   ]
  },
  {
   "cell_type": "markdown",
   "metadata": {},
   "source": [
    "6. Initialize variables and run"
   ]
  },
  {
   "cell_type": "code",
   "execution_count": null,
   "metadata": {},
   "outputs": [],
   "source": [
    "tf.summary.scalar('cross_entropy_scl', cross_entropy)\n",
    "tf.summary.scalar('training_accuracy', accuracy)\n",
    "\n",
    "# Tensorboard - merge summaries\n",
    "summarize_all = tf.summary.merge_all()\n",
    "\n",
    "sess.run(tf.global_variables_initializer())\n",
    "\n",
    "# TensorBoard\n",
    "tb_writer = tf.summary.FileWriter(log_path, sess.graph)\n",
    "\n",
    "num_steps = 3000\n",
    "display_every = 100\n",
    "\n",
    "# Start timer\n",
    "start_time = time.time()\n",
    "end_time = time.time()\n",
    "\n",
    "for i in range(num_steps):\n",
    "    batch = mnist.train.next_batch(50)\n",
    "    _, summary = sess.run([train_step, summarize_all], feed_dict={x: batch[0], y_: batch[1], keep_prob: 0.5})\n",
    "    \n",
    "    # Periodic status display\n",
    "    if i % display_every == 0:\n",
    "        train_accuracy = accuracy.eval(feed_dict={x: batch[0], y_: batch[1], keep_prob: 1.0})\n",
    "        end_time = time.time()\n",
    "        print(\"step {0}, elapsed time {1:.2f} seconds, training acc {2:.2f}%\".format(i, end_time-start_time, train_accuracy*100.0))\n",
    "        # write summary to log\n",
    "        tb_writer.add_summary(summary, i)\n",
    "        \n",
    "# Display summary\n",
    "end_time = time.time()\n",
    "print(\"Total training time for {0} batches: {1:.2f} seconds\".format(i+1, end_time-start_time))\n",
    "\n",
    "# Accuracy\n",
    "print(\"Test accuracy {0:.2f}%\".format(accuracy.eval(feed_dict={x: mnist.test.images, y_: mnist.test.labels, keep_prob: 1.0}) * 100.0))\n",
    "\n",
    "sess.close() \n",
    "\n",
    "# 98.3% accuracy"
   ]
  }
 ],
 "metadata": {
  "kernelspec": {
   "display_name": "Python 3",
   "language": "python",
   "name": "python3"
  },
  "language_info": {
   "codemirror_mode": {
    "name": "ipython",
    "version": 3
   },
   "file_extension": ".py",
   "mimetype": "text/x-python",
   "name": "python",
   "nbconvert_exporter": "python",
   "pygments_lexer": "ipython3",
   "version": "3.7.3"
  }
 },
 "nbformat": 4,
 "nbformat_minor": 2
}
