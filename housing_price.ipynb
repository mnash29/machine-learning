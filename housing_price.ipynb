{
 "cells": [
  {
   "cell_type": "markdown",
   "metadata": {},
   "source": [
    "# House Price Prediction"
   ]
  },
  {
   "cell_type": "code",
   "execution_count": null,
   "metadata": {},
   "outputs": [],
   "source": [
    "import tensorflow as tf\n",
    "import numpy as np\n",
    "import math\n",
    "import matplotlib.pyplot as plt\n",
    "import matplotlib.animation as animation"
   ]
  },
  {
   "cell_type": "markdown",
   "metadata": {},
   "source": [
    "### Generate data\n",
    "\n",
    "1. Generate housing data of sizes between 1000 and 3500 sq. ft."
   ]
  },
  {
   "cell_type": "code",
   "execution_count": null,
   "metadata": {},
   "outputs": [],
   "source": [
    "num_houses = 160\n",
    "np.random.seed(42)\n",
    "house_size = np.random.randint(low=1000, high=3500, size=num_houses)"
   ]
  },
  {
   "cell_type": "markdown",
   "metadata": {},
   "source": [
    "2. Generate house prices from house size with a random noise added."
   ]
  },
  {
   "cell_type": "code",
   "execution_count": null,
   "metadata": {},
   "outputs": [],
   "source": [
    "np.random.seed(42)\n",
    "house_price = house_size * 100.0 + np.random.randint(low=20000, high=70000, size=num_houses)"
   ]
  },
  {
   "cell_type": "markdown",
   "metadata": {},
   "source": [
    "3. Visualize the house and price data"
   ]
  },
  {
   "cell_type": "code",
   "execution_count": null,
   "metadata": {},
   "outputs": [],
   "source": [
    "plt.plot(house_size, house_price, \"bo\")\n",
    "plt.ylabel(\"Price\")\n",
    "plt.xlabel(\"Size\")\n",
    "plt.show()"
   ]
  },
  {
   "cell_type": "markdown",
   "metadata": {},
   "source": [
    "### Prepare training/testing data sets\n",
    "\n",
    "4. Create function to normalize data values using standard normal distribution\n",
    "5. Define number of training/testing samples, 70/30 split"
   ]
  },
  {
   "cell_type": "code",
   "execution_count": null,
   "metadata": {},
   "outputs": [],
   "source": [
    "def normalize(array):\n",
    "    return (array - array.mean()) / array.std()"
   ]
  },
  {
   "cell_type": "code",
   "execution_count": null,
   "metadata": {},
   "outputs": [],
   "source": [
    "num_train_samples = math.floor(num_houses * 0.7)\n",
    "\n",
    "# Training set\n",
    "train_house_size = np.asarray(house_size[:num_train_samples])\n",
    "train_house_price = np.asarray(house_price[:num_train_samples])\n",
    "\n",
    "train_house_size_norm = normalize(train_house_size)\n",
    "train_house_price_norm = normalize(train_house_price)\n",
    "\n",
    "# Testing set\n",
    "test_house_size = np.asarray(house_size[num_train_samples:])\n",
    "test_house_price = np.asarray(house_price[num_train_samples:])\n",
    "\n",
    "test_house_size_norm = normalize(test_house_price)\n",
    "test_house_price_norm = normalize(test_house_price)"
   ]
  },
  {
   "cell_type": "markdown",
   "metadata": {},
   "source": [
    "### Setup Tensorflow environment\n",
    "\n",
    "6. Create Tensorflow placeholders that get updated as we descend through gradient descent"
   ]
  },
  {
   "cell_type": "code",
   "execution_count": null,
   "metadata": {},
   "outputs": [],
   "source": [
    "tf_house_size = tf.placeholder(\"float\", name=\"house_size\")\n",
    "tf_house_price = tf.placeholder(\"float\", name=\"price\")"
   ]
  },
  {
   "cell_type": "markdown",
   "metadata": {},
   "source": [
    "7. Define variables holding the size factor and price offset we set during training"
   ]
  },
  {
   "cell_type": "code",
   "execution_count": null,
   "metadata": {},
   "outputs": [],
   "source": [
    "tf_size_factor = tf.Variable(np.random.randn(), name=\"size_factor\")\n",
    "tf_price_offset = tf.Variable(np.random.randn(), name=\"price_offset\")"
   ]
  },
  {
   "cell_type": "markdown",
   "metadata": {},
   "source": [
    "8. Define the inference and loss functions for the predicting values - predicted price = (size_factor * house_size) + price_offset"
   ]
  },
  {
   "cell_type": "code",
   "execution_count": null,
   "metadata": {},
   "outputs": [],
   "source": [
    "tf_price_pred = tf.add(tf.multiply(tf_size_factor, tf_house_size), tf_price_offset)\n",
    "tf_cost = tf.reduce_sum(tf.pow(tf_price_pred - tf_house_price, 2)) / (2 * num_train_samples)"
   ]
  },
  {
   "cell_type": "markdown",
   "metadata": {},
   "source": [
    "9. Define learning rate and optimizer"
   ]
  },
  {
   "cell_type": "code",
   "execution_count": null,
   "metadata": {},
   "outputs": [],
   "source": [
    "learning_rate = 0.1\n",
    "optimizer = tf.train.GradientDescentOptimizer(learning_rate).minimize(tf_cost)"
   ]
  },
  {
   "cell_type": "markdown",
   "metadata": {},
   "source": [
    "10. Initialize the variables and launch the graph in the session"
   ]
  },
  {
   "cell_type": "code",
   "execution_count": null,
   "metadata": {},
   "outputs": [],
   "source": [
    "init = tf.global_variables_initializer()\n",
    "\n",
    "with tf.Session() as sess:\n",
    "    sess.run(init)\n",
    "    \n",
    "    # set how often to display training progress and number of training iterations\n",
    "    display_every = 2\n",
    "    num_training_iter = 50\n",
    "    \n",
    "    # Iterate through training data\n",
    "    for iteration in range(num_training_iter):\n",
    "        \n",
    "        # Fit training data\n",
    "        for(x,y) in zip(train_house_size_norm, train_house_price_norm):\n",
    "            sess.run(optimizer, feed_dict={tf_house_size: x, tf_house_price: y})\n",
    "            \n",
    "        # Display current status\n",
    "        if((iteration + 1) % display_every == 0 ):\n",
    "            c = sess.run(tf_cost, feed_dict={tf_house_size: train_house_size_norm, tf_house_price: train_house_price_norm})\n",
    "            print(\"Iteration #:\", '%04d' % (iteration + 1), \"cost=\", \"{:.9f}\".format(c), \\\n",
    "                  \"size_factor=\", sess.run(tf_size_factor), \"price_offset=\", sess.run(tf_price_offset))\n",
    "    print(\"Optimization Finished!\")\n",
    "    training_cost = sess.run(tf_cost, feed_dict={tf_house_size: train_house_size_norm, tf_house_price: train_house_price_norm})\n",
    "    print(\"Trained cost=\", training_cost, \"size_factor=\", sess.run(tf_size_factor), \"price_offset=\", sess.run(tf_price_offset), '\\n')\n",
    "    \n",
    "    # Denormalize values to original scale\n",
    "    train_house_size_mean = train_house_size.mean()\n",
    "    train_house_size_std = train_house_size.std()\n",
    "\n",
    "    train_house_price_mean = train_house_price.mean()\n",
    "    train_house_price_std = train_house_price.std()\n",
    "\n",
    "    # Plot the graph\n",
    "    plt.rcParams[\"figure.figsize\"] = (10,8)\n",
    "    plt.figure()\n",
    "    plt.ylabel(\"Price\")\n",
    "    plt.xlabel(\"Size (sq.ft.)\")\n",
    "    plt.plot(train_house_size, train_house_price, 'go', label=\"Training data\")\n",
    "    plt.plot(test_house_size, test_house_price, 'mo', label=\"Testing Data\")\n",
    "    plt.plot(train_house_size_norm * train_house_size_std + train_house_size_mean, (sess.run(tf_size_factor) * train_house_size_norm + sess.run(tf_price_offset)) * train_house_price_std + train_house_price_mean, label=\"Learned Regression\")\n",
    "    plt.legend(loc=\"upper left\")\n",
    "    plt.show()"
   ]
  }
 ],
 "metadata": {
  "kernelspec": {
   "display_name": "Python 3",
   "language": "python",
   "name": "python3"
  },
  "language_info": {
   "codemirror_mode": {
    "name": "ipython",
    "version": 3
   },
   "file_extension": ".py",
   "mimetype": "text/x-python",
   "name": "python",
   "nbconvert_exporter": "python",
   "pygments_lexer": "ipython3",
   "version": "3.7.3"
  }
 },
 "nbformat": 4,
 "nbformat_minor": 2
}
